{
 "cells": [
  {
   "cell_type": "code",
   "execution_count": null,
   "metadata": {},
   "outputs": [],
   "source": [
    "# import collections \n",
    "# import sys\n",
    "# if sys.version_info.major == 3 and sys.version_info.minor >= 10:\n",
    "\n",
    "#     from collections.abc import MutableMapping\n",
    "# else:\n",
    "#     from collections import MutableMapping\n",
    "from plot_functions import *\n",
    "from global_file import create_params_dict\n",
    "from connection_and_distillation import *\n",
    "import time\n",
    "from itertools import product\n",
    "import warnings\n",
    "\n",
    "warnings.filterwarnings(\"error\")\n",
    "warnings.filterwarnings(\n",
    "    \"ignore\", message=\"elementwise comparison failed; returning scalar instead, \"\n",
    "                      \"but in the future will perform elementwise comparison\")\n"
   ]
  },
  {
   "cell_type": "code",
   "execution_count": null,
   "metadata": {},
   "outputs": [],
   "source": [
    "import networkx as nx\n",
    "import numpy as np\n",
    "import matplotlib.pyplot as plt\n",
    "\n",
    "def generate_network_topology(number_of_repeaters, topology='Star', distance=1):\n",
    "    G = nx.Graph()\n",
    "\n",
    "    # Add edge nodes A and B\n",
    "    G.add_node('A', pos=np.array([0, 0]))\n",
    "    G.add_node('B', pos=np.array([0, distance]))\n",
    "\n",
    "    # Add repeater nodes based on the selected topology\n",
    "    if topology == 'Star':\n",
    "        for i in range(1, number_of_repeaters + 1):\n",
    "            node_name = f'R{i}'\n",
    "            G.add_node(node_name, pos=np.array([0, i * distance / (number_of_repeaters + 1)]))\n",
    "            G.add_edge('A', node_name)\n",
    "            G.add_edge('B', node_name)\n",
    "\n",
    "    elif topology == 'Ring':\n",
    "        for i in range(1, number_of_repeaters + 1):\n",
    "            node_name = f'R{i}'\n",
    "            theta = 2 * np.pi * i / number_of_repeaters\n",
    "            x = distance * np.cos(theta)\n",
    "            y = distance * np.sin(theta)\n",
    "            G.add_node(node_name, pos=np.array([x, y]))\n",
    "            G.add_edge('A', node_name)\n",
    "            G.add_edge('B', node_name)\n",
    "\n",
    "    elif topology == 'Mesh':\n",
    "        for i in range(1, number_of_repeaters + 1):\n",
    "            node_name = f'R{i}'\n",
    "            G.add_node(node_name, pos=np.array([i * distance, 0]))\n",
    "            G.add_edge('A', node_name)\n",
    "            G.add_edge('B', node_name)\n",
    "\n",
    "    elif topology == 'Tree':\n",
    "        for i in range(1, number_of_repeaters + 1):\n",
    "            node_name = f'R{i}'\n",
    "            G.add_node(node_name, pos=np.array([0, -i * distance / (number_of_repeaters + 1)]))\n",
    "            G.add_edge('A', node_name)\n",
    "            G.add_edge('B', node_name)\n",
    "\n",
    "    return G\n",
    "\n"
   ]
  },
  {
   "cell_type": "code",
   "execution_count": null,
   "metadata": {},
   "outputs": [],
   "source": [
    "\n",
    "G=nx.random_internet_as_graph(100)\n",
    "# Find the diameter of the graph\n",
    "diameter = nx.diameter(G)\n",
    "\n",
    "# Find all pairs of nodes that achieve the diameter\n",
    "farthest_node_pairs = []\n",
    "for node in G.nodes():\n",
    "    eccentricity = nx.eccentricity(G, v=node)\n",
    "    if eccentricity == diameter:\n",
    "        farthest_node_pairs.extend([(node, other_node) for other_node in G.nodes() if nx.shortest_path_length(G, node, other_node) == diameter])\n",
    "\n",
    "# Display the result\n",
    "print(\"Pairs of nodes farthest from each other:\", farthest_node_pairs)"
   ]
  },
  {
   "cell_type": "code",
   "execution_count": null,
   "metadata": {},
   "outputs": [],
   "source": [
    "# # Example usage\n",
    "# number_of_repeaters = 10\n",
    "# topology = 'Ring'\n",
    "# distance = 2\n",
    "# G = generate_network_topology(number_of_repeaters, topology, distance)\n",
    "\n",
    "\n",
    "pos = nx.spring_layout(G, k=0.9, seed=42)  # Adjust the value of k # Set a seed value for reproducibility\n",
    "edges = G.edges()\n",
    "\n",
    "nx.drawing.nx_agraph.write_dot(G, \"network.dot\")\n",
    "# nx.draw(G, pos, with_labels=True, font_size=8)\n",
    "import subprocess\n",
    "subprocess.run(f\"dot -Tsvg network.dot > network.svg\", shell=True)\n"
   ]
  },
  {
   "cell_type": "code",
   "execution_count": 13,
   "metadata": {},
   "outputs": [],
   "source": [
    "import networkx as nx\n",
    "import numpy as np\n",
    "\n",
    "\n",
    "def create_repeater_network(distance, n, num_paths=1):\n",
    "    \"\"\"\n",
    "    Returns a graph G that is a non-linear network of repeaters with multiple paths from A to B.\n",
    "    \"\"\"\n",
    "    G = nx.Graph()\n",
    "    G.add_node('A', pos=np.array([0, 0]))\n",
    "    G.add_node('B', pos=np.array([0, distance]))\n",
    "\n",
    "    for _ in range(num_paths):\n",
    "        G = insert_chain(G, 'A', 'B', n)\n",
    "\n",
    "    perturbation = global_file.params.pert  # Assuming pert is defined in global_file.py\n",
    "    if perturbation:\n",
    "        # Add random displacements to the node positions\n",
    "        for node in G.nodes():\n",
    "            G.nodes[node]['pos'] += np.random.uniform(-perturbation, perturbation, size=2)\n",
    "\n",
    "    nx.set_edge_attributes(G, values=global_file.params.number_of_fibres, name='#fibres')\n",
    "    return G\n",
    "\n",
    "# def create_repeater_chain(distance, n):\n",
    "#     \"\"\"\n",
    "#     Returns a graph G that is a linear chain of n repeaters\n",
    "#     over the given distance. pert in global_file.py dictates\n",
    "#     whether there should be any random displacements\n",
    "#     \"\"\"\n",
    "#     G = nx.Graph()\n",
    "#     G.add_node('A', pos=np.array([0, 0]))\n",
    "#     G.add_node('B', pos=np.array([0, distance]))\n",
    "#     G.add_edge('A', 'B')\n",
    "#     if n > 0:\n",
    "#         G = insert_chain(G, 'A', 'B', n)\n",
    "#     nx.set_edge_attributes(G, values=global_file.params.number_of_fibres, name='#fibres')\n",
    "#     return G"
   ]
  },
  {
   "cell_type": "code",
   "execution_count": 9,
   "metadata": {},
   "outputs": [],
   "source": [
    "filename = 'parameters/MP_params_set2_1_repeater_150km.txt'\n",
    "\n",
    "global_file.params = create_params_dict(filename)\n",
    "\n",
    "G = create_repeater_chain(global_file.params.distance, int(global_file.params.n))\n",
    "# ,num_paths=2\n",
    "# G = assign_parameters_to_nodes(G)\n",
    "\n",
    "\n",
    "\n",
    "# with open('pkl_files/' + filename + '.pkl', 'wb') as f:  # Python 3: open(..., 'wb')\n",
    "#     pickle.dump(path_dict, f)\n",
    "\n",
    "# plot_fidelity_vs_time_plot(G, 'A', 'B', label=filename,\n",
    "#                            color=None, connected=True)\n",
    "# scheme1 = Scheme(('A'), None, None, None, [0.9, 0, 0, 0.1], 1, 1)\n",
    "# generate_pdf_of_scheme_graph(scheme, \"A\", general_distillation=False)\n"
   ]
  },
  {
   "cell_type": "code",
   "execution_count": null,
   "metadata": {},
   "outputs": [],
   "source": []
  },
  {
   "cell_type": "code",
   "execution_count": null,
   "metadata": {},
   "outputs": [],
   "source": [
    "pos = nx.spring_layout(G, k=0.9, seed=42)  # Adjust the value of k # Set a seed value for reproducibility\n",
    "edges = G.edges()\n",
    "\n",
    "nx.drawing.nx_agraph.write_dot(G, \"network.dot\")\n",
    "# nx.draw(G, pos, with_labels=True, font_size=8)\n",
    "import subprocess\n",
    "subprocess.run(f\"dot -Tsvg network.dot > network.svg\", shell=True)"
   ]
  },
  {
   "cell_type": "code",
   "execution_count": null,
   "metadata": {},
   "outputs": [],
   "source": [
    "candidate_paths=optimise_schemes(G, global_file.params.general_distillation,\n",
    "                  symmetricoptimisation=global_file.params.symmetricoptimisation)"
   ]
  },
  {
   "cell_type": "code",
   "execution_count": null,
   "metadata": {},
   "outputs": [],
   "source": [
    "candidate_paths"
   ]
  },
  {
   "cell_type": "code",
   "execution_count": null,
   "metadata": {},
   "outputs": [],
   "source": [
    "pos = nx.spring_layout(G, k=0.9, seed=42)  # Adjust the value of k # Set a seed value for reproducibility\n",
    "edges = G.edges()\n",
    "\n",
    "nx.drawing.nx_agraph.write_dot(G, \"network.dot\")\n",
    "# nx.draw(G, pos, with_labels=True, font_size=8)\n",
    "import subprocess\n",
    "subprocess.run(f\"dot -Tsvg network.dot > network.svg\", shell=True)"
   ]
  },
  {
   "cell_type": "code",
   "execution_count": null,
   "metadata": {},
   "outputs": [],
   "source": [
    "import subprocess\n",
    "subprocess.run(f\"dot -Tsvg network.dot > network.svg\", shell=True)"
   ]
  }
 ],
 "metadata": {
  "kernelspec": {
   "display_name": "Python 3",
   "language": "python",
   "name": "python3"
  },
  "language_info": {
   "codemirror_mode": {
    "name": "ipython",
    "version": 3
   },
   "file_extension": ".py",
   "mimetype": "text/x-python",
   "name": "python",
   "nbconvert_exporter": "python",
   "pygments_lexer": "ipython3",
   "version": "3.10.12"
  }
 },
 "nbformat": 4,
 "nbformat_minor": 2
}
