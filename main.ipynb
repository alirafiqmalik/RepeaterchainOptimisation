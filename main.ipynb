{
 "cells": [
  {
   "cell_type": "code",
   "execution_count": 1,
   "metadata": {},
   "outputs": [],
   "source": [
    "# import collections \n",
    "# import sys\n",
    "# if sys.version_info.major == 3 and sys.version_info.minor >= 10:\n",
    "\n",
    "#     from collections.abc import MutableMapping\n",
    "# else:\n",
    "#     from collections import MutableMapping\n",
    "from plot_functions import *\n",
    "from global_file import create_params_dict\n",
    "from connection_and_distillation import *\n",
    "import time\n",
    "from itertools import product\n",
    "import warnings\n",
    "\n",
    "warnings.filterwarnings(\"error\")\n",
    "warnings.filterwarnings(\n",
    "    \"ignore\", message=\"elementwise comparison failed; returning scalar instead, \"\n",
    "                      \"but in the future will perform elementwise comparison\")\n"
   ]
  },
  {
   "cell_type": "code",
   "execution_count": 49,
   "metadata": {},
   "outputs": [],
   "source": [
    "import networkx as nx\n",
    "import numpy as np\n",
    "\n",
    "def insert_chain(G, start_node, end_node, n):\n",
    "    \"\"\"\n",
    "    Inserts a non-linear chain of n repeaters between start_node and end_node in the graph G.\n",
    "    \"\"\"\n",
    "    for i in range(n):\n",
    "        new_node = chr(ord('C') + i)  # Use consecutive letters for new nodes\n",
    "        G.add_node(new_node, pos=np.array([0, 0]))  # Initialize positions (you can adjust this as needed)\n",
    "        random_existing_node = np.random.choice(list(G.nodes()))  # Choose a random existing node\n",
    "        G.add_edge(random_existing_node, new_node)  # Connect the new node to a random existing node\n",
    "        G.add_edge(new_node, end_node)  # Connect the new node to the end_node\n",
    "    return G\n",
    "\n",
    "def create_repeater_network(distance, n, num_paths=1):\n",
    "    \"\"\"\n",
    "    Returns a graph G that is a non-linear network of repeaters with multiple paths from A to B.\n",
    "    \"\"\"\n",
    "    G = nx.Graph()\n",
    "    G.add_node('A', pos=np.array([0, 0]))\n",
    "    G.add_node('B', pos=np.array([0, distance]))\n",
    "\n",
    "    for _ in range(num_paths):\n",
    "        G = insert_chain(G, 'A', 'B', n)\n",
    "\n",
    "    perturbation = global_file.params.pert  # Assuming pert is defined in global_file.py\n",
    "    if perturbation:\n",
    "        # Add random displacements to the node positions\n",
    "        for node in G.nodes():\n",
    "            G.nodes[node]['pos'] += np.random.uniform(-perturbation, perturbation, size=2)\n",
    "\n",
    "    nx.set_edge_attributes(G, values=global_file.params.number_of_fibres, name='#fibres')\n",
    "    return G"
   ]
  },
  {
   "cell_type": "code",
   "execution_count": 47,
   "metadata": {},
   "outputs": [],
   "source": [
    "# Example usage\n",
    "distance = 10  # Adjust as needed\n",
    "num_repeaters = 10  # Number of repeaters in each path\n",
    "num_paths = 3  # Number of paths from A to B\n",
    "graph = create_repeater_network(distance, num_repeaters, num_paths)\n"
   ]
  },
  {
   "cell_type": "code",
   "execution_count": 39,
   "metadata": {},
   "outputs": [],
   "source": [
    "filename = 'parameters/myfile.txt'\n",
    "\n",
    "global_file.params = create_params_dict(filename)\n",
    "\n",
    "G = create_repeater_network(global_file.params.distance, int(global_file.params.n),)\n",
    "G = assign_parameters_to_nodes(G)\n",
    "\n",
    "\n",
    "\n",
    "# with open('pkl_files/' + filename + '.pkl', 'wb') as f:  # Python 3: open(..., 'wb')\n",
    "#     pickle.dump(path_dict, f)\n",
    "\n",
    "# plot_fidelity_vs_time_plot(G, 'A', 'B', label=filename,\n",
    "#                            color=None, connected=True)\n",
    "# scheme1 = Scheme(('A'), None, None, None, [0.9, 0, 0, 0.1], 1, 1)\n",
    "# generate_pdf_of_scheme_graph(scheme, \"A\", general_distillation=False)\n"
   ]
  },
  {
   "cell_type": "code",
   "execution_count": 34,
   "metadata": {},
   "outputs": [
    {
     "name": "stdout",
     "output_type": "stream",
     "text": [
      "Number of pruned schemes is 48, from 57 to 9.\n",
      "Finished elementary links.\n",
      "Number of pruned schemes is 0, from 8 to 8.\n",
      "Time for swap protocols =    0.84284\n",
      "Time for dist protocols =    0.00004\n",
      "--\n",
      "25.0 %\n",
      "Number of pruned schemes is 0, from 4 to 4.\n",
      "Time for swap protocols =    0.65238\n",
      "Time for dist protocols =    0.00014\n",
      "--\n",
      "33.33 %\n",
      "Number of pruned schemes is 0, from 12 to 12.\n",
      "Time for swap protocols =    0.95631\n",
      "Time for dist protocols =    0.00004\n",
      "--\n",
      "41.67 %\n",
      "Number of pruned schemes is 0, from 12 to 12.\n",
      "Time for swap protocols =    1.17932\n",
      "Time for dist protocols =    0.00009\n",
      "--\n",
      "50.0 %\n",
      "Number of pruned schemes is 2, from 12 to 10.\n",
      "Time for swap protocols =    2.02273\n",
      "Time for dist protocols =    0.00003\n",
      "--\n",
      "58.33 %\n",
      "Number of pruned schemes is 2, from 12 to 10.\n",
      "Time for swap protocols =    1.81332\n",
      "Time for dist protocols =    0.00003\n",
      "--\n",
      "66.67 %\n",
      "Number of pruned schemes is 0, from 19 to 19.\n",
      "Time for swap protocols =    2.98277\n",
      "Time for dist protocols =    0.00004\n",
      "--\n",
      "75.0 %\n",
      "Number of pruned schemes is 4, from 16 to 12.\n",
      "Time for swap protocols =    3.66396\n",
      "Time for dist protocols =    0.00006\n",
      "--\n",
      "83.33 %\n",
      "Number of pruned schemes is 4, from 16 to 12.\n",
      "Time for swap protocols =    3.61692\n",
      "Time for dist protocols =    0.00003\n",
      "--\n",
      "91.67 %\n",
      "Number of pruned schemes is 5, from 12 to 7.\n",
      "Time for swap protocols =    3.15290\n",
      "Time for dist protocols =    0.00003\n",
      "--\n",
      "100.0 %\n"
     ]
    }
   ],
   "source": [
    "candidate_paths=optimise_schemes(G, global_file.params.general_distillation,\n",
    "                  symmetricoptimisation=global_file.params.symmetricoptimisation)"
   ]
  },
  {
   "cell_type": "code",
   "execution_count": 35,
   "metadata": {},
   "outputs": [
    {
     "data": {
      "text/plain": [
       "[('A',\n",
       "  'AB1',\n",
       "  'AB2',\n",
       "  'AB3',\n",
       "  'AB4',\n",
       "  'AB5',\n",
       "  'AB6',\n",
       "  'AB7',\n",
       "  'AB8',\n",
       "  'AB9',\n",
       "  'AB10',\n",
       "  'B')]"
      ]
     },
     "execution_count": 35,
     "metadata": {},
     "output_type": "execute_result"
    }
   ],
   "source": [
    "candidate_paths"
   ]
  },
  {
   "cell_type": "code",
   "execution_count": 51,
   "metadata": {},
   "outputs": [
    {
     "data": {
      "text/plain": [
       "CompletedProcess(args='dot -Tsvg network.dot > network.svg', returncode=0)"
      ]
     },
     "execution_count": 51,
     "metadata": {},
     "output_type": "execute_result"
    }
   ],
   "source": [
    "pos = nx.spring_layout(G, k=0.9, seed=42)  # Adjust the value of k # Set a seed value for reproducibility\n",
    "edges = G.edges()\n",
    "\n",
    "nx.drawing.nx_agraph.write_dot(G, \"network.dot\")\n",
    "# nx.draw(G, pos, with_labels=True, font_size=8)\n",
    "import subprocess\n",
    "subprocess.run(f\"dot -Tsvg network.dot > network.svg\", shell=True)"
   ]
  },
  {
   "cell_type": "code",
   "execution_count": 17,
   "metadata": {},
   "outputs": [
    {
     "data": {
      "text/plain": [
       "CompletedProcess(args='dot -Tsvg network.dot > network.svg', returncode=0)"
      ]
     },
     "execution_count": 17,
     "metadata": {},
     "output_type": "execute_result"
    }
   ],
   "source": [
    "import subprocess\n",
    "subprocess.run(f\"dot -Tsvg network.dot > network.svg\", shell=True)"
   ]
  }
 ],
 "metadata": {
  "kernelspec": {
   "display_name": "Python 3",
   "language": "python",
   "name": "python3"
  },
  "language_info": {
   "codemirror_mode": {
    "name": "ipython",
    "version": 3
   },
   "file_extension": ".py",
   "mimetype": "text/x-python",
   "name": "python",
   "nbconvert_exporter": "python",
   "pygments_lexer": "ipython3",
   "version": "3.8.10"
  }
 },
 "nbformat": 4,
 "nbformat_minor": 2
}
